{
 "cells": [
  {
   "cell_type": "markdown",
   "metadata": {},
   "source": [
    "# Zona de Pruebas\n",
    "\n",
    "Este notebook se usa para probar la funcionalidades y aprender como funciona realmente la librería."
   ]
  },
  {
   "cell_type": "code",
   "execution_count": 1,
   "metadata": {},
   "outputs": [],
   "source": [
    "from CraftingTable import CraftingTable\n",
    "from ctgan import load_demo\n",
    "real_data = load_demo()"
   ]
  },
  {
   "cell_type": "markdown",
   "metadata": {},
   "source": [
    "Primero instanciamos un objeto de la clase CraftingTable.\n",
    "\n",
    "*CraftingTable* nos sirve como recipiente para permitirnos cargar un modelo generativo de datos tabulares, ajustarlo a un conjunto de datos reales, generar datos sintéticos y evaluarlos, mientras mantenemos un registro de metadatos sobre las acciones que van sucediendo."
   ]
  },
  {
   "cell_type": "code",
   "execution_count": 2,
   "metadata": {},
   "outputs": [],
   "source": [
    "ct = CraftingTable()"
   ]
  },
  {
   "cell_type": "markdown",
   "metadata": {},
   "source": [
    "Funciones Básicas:\n",
    "\n",
    "- *create_model*: Primera función a ejecutar siempre que se instancia un objeto de la clase CraftingTable. Se le pasa por parámetro el nombre del modelo que se desea usar para generar los datos sintéticos y opcionalmente los hiperparámetros de este. Esta función inicializa una instancia nueva del modelo seleccionado.\n",
    "\n",
    "- *fit*: Entrena el modelo cargado para que aprenda a generar datos sintéticos como los reales. Recibe por parámetro un DataFrame de datos reales y opcionalmente una lista con las columnas discretas, el número de épocas, y si se desea que se imprima la información del entrenamiento mientras sucede. Esta función modifica los metadatos del modelo.\n",
    "\n",
    "- *sample*: Genera datos sintéticos. Recibe por parámetro el número de filas a generar y opcionalmente una columna y un valor para ésta fijados. Además, cuenta con un último parámetro solo aplicable al modelo \"ctgan\", que permite al usuario elegir si generar datos únicamente con el valor deseado en la columna deseada o que estos solo tengan una mayor probabilidad de ser generados. Esta función modifica los metadatos del modelo.\n",
    "\n",
    "- *get_metadata*: Devuelve el registro de metadatos hasta el momento. Esta función no recibe nada por parámetro.\n",
    "\n",
    "- *save*: Guarda el modelo. Opcionalmente, se puede seleccionar el nombre con el que el modelo se guardará.\n",
    "\n",
    "- *load*: Carga un modelo de un archivo anteriormente guardado. Esta función recibe el path al archivo que contiene los datos del modelo. Es necesario haber ejecutado la función *create_model* con anterioridad para tener un modelo de ese tipo instanciado donde cargar los datos.\n",
    "\n",
    "Funciones de Evaluación:\n",
    "\n",
    "- *eval_stat*: Se evalúa la precisión de la generación de datos del modelo mediante tests estadísticos. Recibe por parámetro un DataFrame de datos reales con los que comparar y un string representando el nombre del test estadístico a realizar. Opcionalmente, se le puede pasar un DataFrame de datos sintéticos para comparar con los reales, en caso contrario, el modelo generará el mismo internamente estos datos.\n",
    "\n",
    "- *eval_ml*: Se evalúa la eficacia de la generación de datos sintéticos para entrenar modelos de aprendizaje automático. Esta función recibe un DataFrame de datos reales, tres strings (nombre de la columna \"target\", tipo de tarea a realizar entre \"regression\"/\"classification\" y el nombre dentro del paquete Scikit-learn del modelo que se desea usar) y una lista con las métricas a devolver. Opcionalmente, se puede seleccionar también el tamaño de la partición de test y un DataFrame de datos sintéticos.\n",
    "\n",
    "- *eval_plot*: Se generan gráficos para ver la similitud de las distribuciones entre datos reales y sintéticos. Esta función recibe un DataFrame de datos reales por parámetro, además de un string identificando el tipo de gráfico a realizar. Opcionalmente, se puede pasar un DataFrame de datos sintéticos por parámetro, además de una lista de las variables a graficar o incluso un número máximo de estas para los *pair plots*."
   ]
  },
  {
   "cell_type": "markdown",
   "metadata": {},
   "source": [
    "Empezamos creando el modelo. En este caso, al no pasarle los hiperparámetros, se usarán los predefinidos en el paper original de la CTGAN, aunque se pueden configurar a gusto de uno.\n",
    "\n",
    "Actualmente, solo estan implementados dos modelos:\n",
    "\n",
    "- CTGAN (Conditional Tabular Generative Adversarial Networks)\n",
    "- TVAE (Tabular Variational AutoEncoder)\n",
    "\n",
    "Ambos presentados en [este paper](https://arxiv.org/pdf/1907.00503)."
   ]
  },
  {
   "cell_type": "code",
   "execution_count": 3,
   "metadata": {},
   "outputs": [
    {
     "name": "stdout",
     "output_type": "stream",
     "text": [
      "Model loaded successfully!\n"
     ]
    }
   ],
   "source": [
    "ct.create_model(\"diffusion\", {\"d_layers\":[128, 64, 32]})"
   ]
  },
  {
   "cell_type": "markdown",
   "metadata": {},
   "source": [
    "Es aconsejable pasarle la lista de columnas con valores discretos de nuestro conjunto de datos, ya que así nos aseguramos un correcto funcionamiento del modelo. Además, ajustaremos la CTGAN usando 60 épocas y escogeremos que se imprima la evolución del entrenamiento poniendo verbose a *True*. \n",
    "\n",
    "⚠️⚠️⚠️**NO ES NECESARIO PONERLO A ENTRENAR YA QUE HAY YA UN MODELO PREENTRENADO**⚠️⚠️⚠️"
   ]
  },
  {
   "cell_type": "code",
   "execution_count": 4,
   "metadata": {},
   "outputs": [],
   "source": [
    "discrete_columns = [\n",
    "    'workclass',\n",
    "    'education',\n",
    "    'marital-status',\n",
    "    'occupation',\n",
    "    'relationship',\n",
    "    'race',\n",
    "    'sex',\n",
    "    'native-country',\n",
    "    'income'\n",
    "]\n",
    "epochs=1000\n",
    "verbose=True"
   ]
  },
  {
   "cell_type": "code",
   "execution_count": 5,
   "metadata": {},
   "outputs": [
    {
     "name": "stdout",
     "output_type": "stream",
     "text": [
      "Step 500/1000 - MLoss: 0.0 | GLoss: 0.8638 | Total: 0.8638\n",
      "Step 1000/1000 - MLoss: 0.0 | GLoss: 0.8584 | Total: 0.8584\n"
     ]
    },
    {
     "data": {
      "text/html": [
       "<div>\n",
       "<style scoped>\n",
       "    .dataframe tbody tr th:only-of-type {\n",
       "        vertical-align: middle;\n",
       "    }\n",
       "\n",
       "    .dataframe tbody tr th {\n",
       "        vertical-align: top;\n",
       "    }\n",
       "\n",
       "    .dataframe thead th {\n",
       "        text-align: right;\n",
       "    }\n",
       "</style>\n",
       "<table border=\"1\" class=\"dataframe\">\n",
       "  <thead>\n",
       "    <tr style=\"text-align: right;\">\n",
       "      <th></th>\n",
       "      <th>step</th>\n",
       "      <th>mloss</th>\n",
       "      <th>gloss</th>\n",
       "      <th>loss</th>\n",
       "    </tr>\n",
       "  </thead>\n",
       "  <tbody>\n",
       "    <tr>\n",
       "      <th>0</th>\n",
       "      <td>100.0</td>\n",
       "      <td>0.0</td>\n",
       "      <td>0.9084</td>\n",
       "      <td>0.9084</td>\n",
       "    </tr>\n",
       "    <tr>\n",
       "      <th>1</th>\n",
       "      <td>200.0</td>\n",
       "      <td>0.0</td>\n",
       "      <td>0.8754</td>\n",
       "      <td>0.8754</td>\n",
       "    </tr>\n",
       "    <tr>\n",
       "      <th>2</th>\n",
       "      <td>300.0</td>\n",
       "      <td>0.0</td>\n",
       "      <td>0.8690</td>\n",
       "      <td>0.8690</td>\n",
       "    </tr>\n",
       "    <tr>\n",
       "      <th>3</th>\n",
       "      <td>400.0</td>\n",
       "      <td>0.0</td>\n",
       "      <td>0.8659</td>\n",
       "      <td>0.8659</td>\n",
       "    </tr>\n",
       "    <tr>\n",
       "      <th>4</th>\n",
       "      <td>500.0</td>\n",
       "      <td>0.0</td>\n",
       "      <td>0.8638</td>\n",
       "      <td>0.8638</td>\n",
       "    </tr>\n",
       "    <tr>\n",
       "      <th>5</th>\n",
       "      <td>600.0</td>\n",
       "      <td>0.0</td>\n",
       "      <td>0.8621</td>\n",
       "      <td>0.8621</td>\n",
       "    </tr>\n",
       "    <tr>\n",
       "      <th>6</th>\n",
       "      <td>700.0</td>\n",
       "      <td>0.0</td>\n",
       "      <td>0.8610</td>\n",
       "      <td>0.8610</td>\n",
       "    </tr>\n",
       "    <tr>\n",
       "      <th>7</th>\n",
       "      <td>800.0</td>\n",
       "      <td>0.0</td>\n",
       "      <td>0.8601</td>\n",
       "      <td>0.8601</td>\n",
       "    </tr>\n",
       "    <tr>\n",
       "      <th>8</th>\n",
       "      <td>900.0</td>\n",
       "      <td>0.0</td>\n",
       "      <td>0.8591</td>\n",
       "      <td>0.8591</td>\n",
       "    </tr>\n",
       "    <tr>\n",
       "      <th>9</th>\n",
       "      <td>1000.0</td>\n",
       "      <td>0.0</td>\n",
       "      <td>0.8584</td>\n",
       "      <td>0.8584</td>\n",
       "    </tr>\n",
       "  </tbody>\n",
       "</table>\n",
       "</div>"
      ],
      "text/plain": [
       "     step  mloss   gloss    loss\n",
       "0   100.0    0.0  0.9084  0.9084\n",
       "1   200.0    0.0  0.8754  0.8754\n",
       "2   300.0    0.0  0.8690  0.8690\n",
       "3   400.0    0.0  0.8659  0.8659\n",
       "4   500.0    0.0  0.8638  0.8638\n",
       "5   600.0    0.0  0.8621  0.8621\n",
       "6   700.0    0.0  0.8610  0.8610\n",
       "7   800.0    0.0  0.8601  0.8601\n",
       "8   900.0    0.0  0.8591  0.8591\n",
       "9  1000.0    0.0  0.8584  0.8584"
      ]
     },
     "execution_count": 5,
     "metadata": {},
     "output_type": "execute_result"
    }
   ],
   "source": [
    "ct.fit(data=real_data, discrete_columns=discrete_columns, epochs=epochs, verbose=verbose)"
   ]
  },
  {
   "cell_type": "markdown",
   "metadata": {},
   "source": [
    "mloss debe ser la perdida de las categoricas\n",
    "\n",
    "step parece ser los epochs aqui o ns mb el que"
   ]
  },
  {
   "cell_type": "code",
   "execution_count": 6,
   "metadata": {},
   "outputs": [
    {
     "name": "stdout",
     "output_type": "stream",
     "text": [
      "Sample using DDIM.\n",
      "Sample timestep    0\n"
     ]
    },
    {
     "data": {
      "text/html": [
       "<div>\n",
       "<style scoped>\n",
       "    .dataframe tbody tr th:only-of-type {\n",
       "        vertical-align: middle;\n",
       "    }\n",
       "\n",
       "    .dataframe tbody tr th {\n",
       "        vertical-align: top;\n",
       "    }\n",
       "\n",
       "    .dataframe thead th {\n",
       "        text-align: right;\n",
       "    }\n",
       "</style>\n",
       "<table border=\"1\" class=\"dataframe\">\n",
       "  <thead>\n",
       "    <tr style=\"text-align: right;\">\n",
       "      <th></th>\n",
       "      <th>age</th>\n",
       "      <th>workclass</th>\n",
       "      <th>fnlwgt</th>\n",
       "      <th>education</th>\n",
       "      <th>education-num</th>\n",
       "      <th>marital-status</th>\n",
       "      <th>occupation</th>\n",
       "      <th>relationship</th>\n",
       "      <th>race</th>\n",
       "      <th>sex</th>\n",
       "      <th>capital-gain</th>\n",
       "      <th>capital-loss</th>\n",
       "      <th>hours-per-week</th>\n",
       "      <th>native-country</th>\n",
       "      <th>income</th>\n",
       "    </tr>\n",
       "  </thead>\n",
       "  <tbody>\n",
       "    <tr>\n",
       "      <th>0</th>\n",
       "      <td>27</td>\n",
       "      <td>Local-gov</td>\n",
       "      <td>217592</td>\n",
       "      <td>HS-grad</td>\n",
       "      <td>11</td>\n",
       "      <td>Married-civ-spouse</td>\n",
       "      <td>Transport-moving</td>\n",
       "      <td>Wife</td>\n",
       "      <td>Other</td>\n",
       "      <td>Female</td>\n",
       "      <td>-3030</td>\n",
       "      <td>2888</td>\n",
       "      <td>-9</td>\n",
       "      <td>India</td>\n",
       "      <td>&gt;50K</td>\n",
       "    </tr>\n",
       "    <tr>\n",
       "      <th>1</th>\n",
       "      <td>13</td>\n",
       "      <td>Private</td>\n",
       "      <td>273517</td>\n",
       "      <td>Assoc-voc</td>\n",
       "      <td>6</td>\n",
       "      <td>Married-civ-spouse</td>\n",
       "      <td>Armed-Forces</td>\n",
       "      <td>Unmarried</td>\n",
       "      <td>Black</td>\n",
       "      <td>Male</td>\n",
       "      <td>8583</td>\n",
       "      <td>-11</td>\n",
       "      <td>57</td>\n",
       "      <td>Holand-Netherlands</td>\n",
       "      <td>&lt;=50K</td>\n",
       "    </tr>\n",
       "    <tr>\n",
       "      <th>2</th>\n",
       "      <td>13</td>\n",
       "      <td>Never-worked</td>\n",
       "      <td>1023194</td>\n",
       "      <td>Masters</td>\n",
       "      <td>11</td>\n",
       "      <td>Never-married</td>\n",
       "      <td>Tech-support</td>\n",
       "      <td>Wife</td>\n",
       "      <td>Black</td>\n",
       "      <td>Female</td>\n",
       "      <td>-3030</td>\n",
       "      <td>843</td>\n",
       "      <td>30</td>\n",
       "      <td>Philippines</td>\n",
       "      <td>&lt;=50K</td>\n",
       "    </tr>\n",
       "    <tr>\n",
       "      <th>3</th>\n",
       "      <td>96</td>\n",
       "      <td>Without-pay</td>\n",
       "      <td>135645</td>\n",
       "      <td>10th</td>\n",
       "      <td>8</td>\n",
       "      <td>Separated</td>\n",
       "      <td>Craft-repair</td>\n",
       "      <td>Wife</td>\n",
       "      <td>Amer-Indian-Eskimo</td>\n",
       "      <td>Male</td>\n",
       "      <td>-200</td>\n",
       "      <td>-11</td>\n",
       "      <td>40</td>\n",
       "      <td>Yugoslavia</td>\n",
       "      <td>&gt;50K</td>\n",
       "    </tr>\n",
       "    <tr>\n",
       "      <th>4</th>\n",
       "      <td>67</td>\n",
       "      <td>Federal-gov</td>\n",
       "      <td>714973</td>\n",
       "      <td>Prof-school</td>\n",
       "      <td>9</td>\n",
       "      <td>Divorced</td>\n",
       "      <td>Craft-repair</td>\n",
       "      <td>Wife</td>\n",
       "      <td>Black</td>\n",
       "      <td>Female</td>\n",
       "      <td>9528</td>\n",
       "      <td>2888</td>\n",
       "      <td>40</td>\n",
       "      <td>United-States</td>\n",
       "      <td>&gt;50K</td>\n",
       "    </tr>\n",
       "    <tr>\n",
       "      <th>...</th>\n",
       "      <td>...</td>\n",
       "      <td>...</td>\n",
       "      <td>...</td>\n",
       "      <td>...</td>\n",
       "      <td>...</td>\n",
       "      <td>...</td>\n",
       "      <td>...</td>\n",
       "      <td>...</td>\n",
       "      <td>...</td>\n",
       "      <td>...</td>\n",
       "      <td>...</td>\n",
       "      <td>...</td>\n",
       "      <td>...</td>\n",
       "      <td>...</td>\n",
       "      <td>...</td>\n",
       "    </tr>\n",
       "    <tr>\n",
       "      <th>195</th>\n",
       "      <td>13</td>\n",
       "      <td>Self-emp-not-inc</td>\n",
       "      <td>135645</td>\n",
       "      <td>Assoc-acdm</td>\n",
       "      <td>12</td>\n",
       "      <td>Married-spouse-absent</td>\n",
       "      <td>Priv-house-serv</td>\n",
       "      <td>Wife</td>\n",
       "      <td>White</td>\n",
       "      <td>Male</td>\n",
       "      <td>-200</td>\n",
       "      <td>843</td>\n",
       "      <td>36</td>\n",
       "      <td>France</td>\n",
       "      <td>&gt;50K</td>\n",
       "    </tr>\n",
       "    <tr>\n",
       "      <th>196</th>\n",
       "      <td>67</td>\n",
       "      <td>Private</td>\n",
       "      <td>1023194</td>\n",
       "      <td>Bachelors</td>\n",
       "      <td>-2</td>\n",
       "      <td>Divorced</td>\n",
       "      <td>Handlers-cleaners</td>\n",
       "      <td>Husband</td>\n",
       "      <td>White</td>\n",
       "      <td>Female</td>\n",
       "      <td>-200</td>\n",
       "      <td>-11</td>\n",
       "      <td>84</td>\n",
       "      <td>?</td>\n",
       "      <td>&lt;=50K</td>\n",
       "    </tr>\n",
       "    <tr>\n",
       "      <th>197</th>\n",
       "      <td>19</td>\n",
       "      <td>Local-gov</td>\n",
       "      <td>46489</td>\n",
       "      <td>7th-8th</td>\n",
       "      <td>12</td>\n",
       "      <td>Divorced</td>\n",
       "      <td>Farming-fishing</td>\n",
       "      <td>Unmarried</td>\n",
       "      <td>White</td>\n",
       "      <td>Male</td>\n",
       "      <td>200</td>\n",
       "      <td>11</td>\n",
       "      <td>126</td>\n",
       "      <td>Columbia</td>\n",
       "      <td>&lt;=50K</td>\n",
       "    </tr>\n",
       "    <tr>\n",
       "      <th>198</th>\n",
       "      <td>31</td>\n",
       "      <td>State-gov</td>\n",
       "      <td>1023194</td>\n",
       "      <td>11th</td>\n",
       "      <td>6</td>\n",
       "      <td>Married-civ-spouse</td>\n",
       "      <td>Other-service</td>\n",
       "      <td>Husband</td>\n",
       "      <td>Black</td>\n",
       "      <td>Female</td>\n",
       "      <td>200</td>\n",
       "      <td>11</td>\n",
       "      <td>63</td>\n",
       "      <td>Scotland</td>\n",
       "      <td>&lt;=50K</td>\n",
       "    </tr>\n",
       "    <tr>\n",
       "      <th>199</th>\n",
       "      <td>19</td>\n",
       "      <td>Federal-gov</td>\n",
       "      <td>1023194</td>\n",
       "      <td>Doctorate</td>\n",
       "      <td>15</td>\n",
       "      <td>Separated</td>\n",
       "      <td>Other-service</td>\n",
       "      <td>Own-child</td>\n",
       "      <td>White</td>\n",
       "      <td>Female</td>\n",
       "      <td>9528</td>\n",
       "      <td>11</td>\n",
       "      <td>-9</td>\n",
       "      <td>United-States</td>\n",
       "      <td>&lt;=50K</td>\n",
       "    </tr>\n",
       "  </tbody>\n",
       "</table>\n",
       "<p>200 rows × 15 columns</p>\n",
       "</div>"
      ],
      "text/plain": [
       "     age         workclass   fnlwgt    education  education-num  \\\n",
       "0     27         Local-gov   217592      HS-grad             11   \n",
       "1     13           Private   273517    Assoc-voc              6   \n",
       "2     13      Never-worked  1023194      Masters             11   \n",
       "3     96       Without-pay   135645         10th              8   \n",
       "4     67       Federal-gov   714973  Prof-school              9   \n",
       "..   ...               ...      ...          ...            ...   \n",
       "195   13  Self-emp-not-inc   135645   Assoc-acdm             12   \n",
       "196   67           Private  1023194    Bachelors             -2   \n",
       "197   19         Local-gov    46489      7th-8th             12   \n",
       "198   31         State-gov  1023194         11th              6   \n",
       "199   19       Federal-gov  1023194    Doctorate             15   \n",
       "\n",
       "            marital-status         occupation relationship  \\\n",
       "0       Married-civ-spouse   Transport-moving         Wife   \n",
       "1       Married-civ-spouse       Armed-Forces    Unmarried   \n",
       "2            Never-married       Tech-support         Wife   \n",
       "3                Separated       Craft-repair         Wife   \n",
       "4                 Divorced       Craft-repair         Wife   \n",
       "..                     ...                ...          ...   \n",
       "195  Married-spouse-absent    Priv-house-serv         Wife   \n",
       "196               Divorced  Handlers-cleaners      Husband   \n",
       "197               Divorced    Farming-fishing    Unmarried   \n",
       "198     Married-civ-spouse      Other-service      Husband   \n",
       "199              Separated      Other-service    Own-child   \n",
       "\n",
       "                   race     sex  capital-gain  capital-loss  hours-per-week  \\\n",
       "0                 Other  Female         -3030          2888              -9   \n",
       "1                 Black    Male          8583           -11              57   \n",
       "2                 Black  Female         -3030           843              30   \n",
       "3    Amer-Indian-Eskimo    Male          -200           -11              40   \n",
       "4                 Black  Female          9528          2888              40   \n",
       "..                  ...     ...           ...           ...             ...   \n",
       "195               White    Male          -200           843              36   \n",
       "196               White  Female          -200           -11              84   \n",
       "197               White    Male           200            11             126   \n",
       "198               Black  Female           200            11              63   \n",
       "199               White  Female          9528            11              -9   \n",
       "\n",
       "         native-country income  \n",
       "0                 India   >50K  \n",
       "1    Holand-Netherlands  <=50K  \n",
       "2           Philippines  <=50K  \n",
       "3            Yugoslavia   >50K  \n",
       "4         United-States   >50K  \n",
       "..                  ...    ...  \n",
       "195              France   >50K  \n",
       "196                   ?  <=50K  \n",
       "197            Columbia  <=50K  \n",
       "198            Scotland  <=50K  \n",
       "199       United-States  <=50K  \n",
       "\n",
       "[200 rows x 15 columns]"
      ]
     },
     "execution_count": 6,
     "metadata": {},
     "output_type": "execute_result"
    }
   ],
   "source": [
    "ct.sample(200)"
   ]
  },
  {
   "cell_type": "code",
   "execution_count": 7,
   "metadata": {},
   "outputs": [
    {
     "name": "stdout",
     "output_type": "stream",
     "text": [
      "Sample using DDIM.\n",
      "Sample timestep    0\n",
      "Sample timestep    0\n",
      "Sample timestep    0\n",
      "Sample timestep    0\n",
      "Sample timestep    0\n",
      "Sample timestep    0\n",
      "Sample timestep    0\n",
      "Sample timestep    0\n",
      "Sample timestep    0\n",
      "Sample timestep    0\n",
      "Sample timestep    0\n",
      "Sample timestep    0\n",
      "Sample timestep    0\n",
      "Sample timestep    0\n",
      "Sample timestep    0\n",
      "Sample timestep    0\n",
      "Sample timestep    0\n"
     ]
    },
    {
     "data": {
      "text/plain": [
       "{'real': {'classification_report':               precision    recall  f1-score      support\n",
       "  0              0.482085  0.686881  0.566543  3232.000000\n",
       "  1              0.804028  0.635154  0.709683  6537.000000\n",
       "  accuracy       0.652267  0.652267  0.652267     0.652267\n",
       "  macro avg      0.643056  0.661017  0.638113  9769.000000\n",
       "  weighted avg   0.697515  0.652267  0.662326  9769.000000},\n",
       " 'fake': {'classification_report':               precision    recall  f1-score      support\n",
       "  0              0.185293  0.137995  0.158184  3232.000000\n",
       "  1              0.621570  0.700015  0.658465  6537.000000\n",
       "  accuracy       0.514075  0.514075  0.514075     0.514075\n",
       "  macro avg      0.403432  0.419005  0.408324  9769.000000\n",
       "  weighted avg   0.477231  0.514075  0.492951  9769.000000}}"
      ]
     },
     "execution_count": 7,
     "metadata": {},
     "output_type": "execute_result"
    }
   ],
   "source": [
    "ct.eval_ml(real_data=real_data, target_name=\"sex\", task=\"classification\",\n",
    "           ml=\"GaussianNB\", metrics=[\"classification_report\"])"
   ]
  },
  {
   "cell_type": "code",
   "execution_count": 8,
   "metadata": {},
   "outputs": [
    {
     "name": "stdout",
     "output_type": "stream",
     "text": [
      "Sample using DDIM.\n",
      "Sample timestep    0\n",
      "Sample timestep    0\n",
      "Sample timestep    0\n",
      "Sample timestep    0\n",
      "Sample timestep    0\n",
      "Sample timestep    0\n",
      "Sample timestep    0\n",
      "Sample timestep    0\n",
      "Sample timestep    0\n",
      "Sample timestep    0\n",
      "Sample timestep    0\n",
      "Sample timestep    0\n",
      "Sample timestep    0\n",
      "Sample timestep    0\n",
      "Sample timestep    0\n",
      "Sample timestep    0\n",
      "Sample timestep    0\n"
     ]
    },
    {
     "data": {
      "image/png": "[encoded data removed]",
      "text/plain": [
       "<Figure size 800x1600 with 4 Axes>"
      ]
     },
     "metadata": {},
     "output_type": "display_data"
    }
   ],
   "source": [
    "ct.eval_plot(real_data=real_data, plot_type='histogram', features=[\"age\", \"sex\", \"race\", \"income\"])"
   ]
  },
  {
   "cell_type": "code",
   "execution_count": 9,
   "metadata": {},
   "outputs": [
    {
     "name": "stdout",
     "output_type": "stream",
     "text": [
      "Sample using DDIM.\n",
      "Sample timestep    0\n",
      "Sample timestep    0\n",
      "Sample timestep    0\n",
      "Sample timestep    0\n",
      "Sample timestep    0\n",
      "Sample timestep    0\n",
      "Sample timestep    0\n",
      "Sample timestep    0\n",
      "Sample timestep    0\n",
      "Sample timestep    0\n",
      "Sample timestep    0\n",
      "Sample timestep    0\n",
      "Sample timestep    0\n",
      "Sample timestep    0\n",
      "Sample timestep    0\n",
      "Sample timestep    0\n",
      "Sample timestep    0\n"
     ]
    },
    {
     "data": {
      "text/plain": [
       "{'distance': 142.2135969313671}"
      ]
     },
     "execution_count": 9,
     "metadata": {},
     "output_type": "execute_result"
    }
   ],
   "source": [
    "ct.eval_stat(real_data, 'mahalanobis')"
   ]
  },
  {
   "cell_type": "code",
   "execution_count": 11,
   "metadata": {},
   "outputs": [
    {
     "data": {
      "text/plain": [
       "{'model_type': 'diffusion',\n",
       " 'hyperparameters': {'d_layers': [128, 64, 32],\n",
       "  'device': device(type='cuda', index=0),\n",
       "  'seed': 0},\n",
       " 'fit_settings': {'times_fitted': 1,\n",
       "  'fit_history': [{'Time_of_fit': '2025-03-31 22:17:24',\n",
       "    'Fit_duration': '0:00:29',\n",
       "    'Loss':      step  mloss   gloss    loss\n",
       "    0   100.0    0.0  0.9084  0.9084\n",
       "    1   200.0    0.0  0.8754  0.8754\n",
       "    2   300.0    0.0  0.8690  0.8690\n",
       "    3   400.0    0.0  0.8659  0.8659\n",
       "    4   500.0    0.0  0.8638  0.8638\n",
       "    5   600.0    0.0  0.8621  0.8621\n",
       "    6   700.0    0.0  0.8610  0.8610\n",
       "    7   800.0    0.0  0.8601  0.8601\n",
       "    8   900.0    0.0  0.8591  0.8591\n",
       "    9  1000.0    0.0  0.8584  0.8584},\n",
       "        step  mloss   gloss    loss\n",
       "   0   100.0    0.0  0.9084  0.9084\n",
       "   1   200.0    0.0  0.8754  0.8754\n",
       "   2   300.0    0.0  0.8690  0.8690\n",
       "   3   400.0    0.0  0.8659  0.8659\n",
       "   4   500.0    0.0  0.8638  0.8638\n",
       "   5   600.0    0.0  0.8621  0.8621\n",
       "   6   700.0    0.0  0.8610  0.8610\n",
       "   7   800.0    0.0  0.8601  0.8601\n",
       "   8   900.0    0.0  0.8591  0.8591\n",
       "   9  1000.0    0.0  0.8584  0.8584]}}"
      ]
     },
     "execution_count": 11,
     "metadata": {},
     "output_type": "execute_result"
    }
   ],
   "source": [
    "ct.get_metadata()['model']"
   ]
  },
  {
   "cell_type": "code",
   "execution_count": 12,
   "metadata": {},
   "outputs": [
    {
     "name": "stdout",
     "output_type": "stream",
     "text": [
      "Model saved successfully!\n"
     ]
    }
   ],
   "source": [
    "ct.save(\"model_diffusion_pretrained.pt\")"
   ]
  },
  {
   "cell_type": "code",
   "execution_count": 4,
   "metadata": {},
   "outputs": [
    {
     "name": "stdout",
     "output_type": "stream",
     "text": [
      "Model loaded successfully\n"
     ]
    }
   ],
   "source": [
    "ct.load(\"model_diffusion_pretrained.pt\")"
   ]
  },
  {
   "cell_type": "code",
   "execution_count": 3,
   "metadata": {},
   "outputs": [
    {
     "name": "stdout",
     "output_type": "stream",
     "text": [
      "Model loaded successfully!\n"
     ]
    }
   ],
   "source": [
    "ct.create_model(\"diffusion\", {\"d_layers\":[128, 64, 32]})"
   ]
  },
  {
   "cell_type": "code",
   "execution_count": 5,
   "metadata": {},
   "outputs": [
    {
     "name": "stdout",
     "output_type": "stream",
     "text": [
      "Sample using DDIM.\n",
      "Sample timestep    0\n"
     ]
    }
   ],
   "source": [
    "res = ct.eval_stat(real_data=real_data[:1000], test=\"two_sample_classifier\", classifier=\"GaussianNB\")"
   ]
  },
  {
   "cell_type": "code",
   "execution_count": 8,
   "metadata": {},
   "outputs": [
    {
     "name": "stdout",
     "output_type": "stream",
     "text": [
      "              precision    recall  f1-score   support\n",
      "\n",
      "         0.0       0.98      1.00      0.99       201\n",
      "         1.0       0.99      0.98      0.99       199\n",
      "\n",
      "    accuracy                           0.99       400\n",
      "   macro avg       0.99      0.99      0.99       400\n",
      "weighted avg       0.99      0.99      0.99       400\n",
      "\n"
     ]
    }
   ],
   "source": [
    "print(res[\"report\"])"
   ]
  }
 ],
 "metadata": {
  "kernelspec": {
   "display_name": "venv",
   "language": "python",
   "name": "python3"
  },
  "language_info": {
   "codemirror_mode": {
    "name": "ipython",
    "version": 3
   },
   "file_extension": ".py",
   "mimetype": "text/x-python",
   "name": "python",
   "nbconvert_exporter": "python",
   "pygments_lexer": "ipython3",
   "version": "3.10.5"
  }
 },
 "nbformat": 4,
 "nbformat_minor": 2
}
