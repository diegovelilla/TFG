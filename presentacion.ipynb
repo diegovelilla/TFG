{
 "cells": [
  {
   "cell_type": "markdown",
   "id": "c2e98f9b",
   "metadata": {},
   "source": [
    "# Crafting Table\n",
    "\n",
    "Instalación e inicialización\n",
    "Entrenamiento de modelos\n",
    "Guardado de modelos\n",
    "Carga de modelos\n",
    "Muestreo\n",
    "Evaluación\n",
    "Graficado"
   ]
  },
  {
   "cell_type": "markdown",
   "id": "10f361f3",
   "metadata": {},
   "source": [
    "## Instalación e inicialización"
   ]
  },
  {
   "cell_type": "code",
   "execution_count": 4,
   "id": "1d8ffc44",
   "metadata": {},
   "outputs": [
    {
     "name": "stderr",
     "output_type": "stream",
     "text": [
      "Cloning into 'TFG'...\n"
     ]
    }
   ],
   "source": [
    "# Clonamos el repositorio de GitHub con el código\n",
    "!git clone https://github.com/diegovelilla/TFG.git"
   ]
  },
  {
   "cell_type": "code",
   "execution_count": 1,
   "id": "8fb93521",
   "metadata": {},
   "outputs": [
    {
     "name": "stdout",
     "output_type": "stream",
     "text": [
      "Package                   Version\n",
      "------------------------- --------------\n",
      "aiohappyeyeballs          2.6.1\n",
      "aiohttp                   3.12.9\n",
      "aiosignal                 1.3.2\n",
      "asttokens                 3.0.0\n",
      "async-timeout             5.0.1\n",
      "attrs                     25.3.0\n",
      "certifi                   2025.4.26\n",
      "charset-normalizer        3.4.2\n",
      "colorama                  0.4.6\n",
      "comm                      0.2.2\n",
      "contourpy                 1.3.2\n",
      "ctgan                     0.11.0\n",
      "cycler                    0.12.1\n",
      "datasets                  3.6.0\n",
      "debugpy                   1.8.14\n",
      "decorator                 5.2.1\n",
      "defusedxml                0.7.1\n",
      "dill                      0.3.7\n",
      "exceptiongroup            1.3.0\n",
      "executing                 2.2.0\n",
      "Faker                     37.1.0\n",
      "fastjsonschema            2.21.1\n",
      "filelock                  3.18.0\n",
      "fonttools                 4.57.0\n",
      "fqdn                      1.4.0\n",
      "frozenlist                1.6.0\n",
      "fsspec                    2025.3.0\n",
      "h11                       0.14.0\n",
      "httpcore                  1.0.7\n",
      "httpx                     0.28.1\n",
      "huggingface-hub           0.30.2\n",
      "idna                      3.10\n",
      "iniconfig                 2.1.0\n",
      "ipykernel                 6.29.5\n",
      "ipython                   8.37.0\n",
      "isoduration               20.11.0\n",
      "jedi                      0.19.2\n",
      "Jinja2                    3.1.6\n",
      "joblib                    1.4.2\n",
      "json5                     0.12.0\n",
      "jsonpointer               3.0.0\n",
      "jsonschema                4.23.0\n",
      "jsonschema-specifications 2024.10.1\n",
      "jupyter_client            8.6.3\n",
      "jupyter_core              5.8.1\n",
      "jupyter-events            0.12.0\n",
      "jupyter-lsp               2.2.5\n",
      "jupyter_server            2.15.0\n",
      "jupyter_server_terminals  0.5.3\n",
      "jupyterlab                4.3.6\n",
      "jupyterlab_pygments       0.3.0\n",
      "jupyterlab_server         2.27.3\n",
      "kiwisolver                1.4.8\n",
      "MarkupSafe                3.0.2\n",
      "matplotlib                3.10.1\n",
      "matplotlib-inline         0.1.7\n",
      "mistune                   3.1.3\n",
      "mpmath                    1.3.0\n",
      "multidict                 6.4.3\n",
      "multiprocess              0.70.15\n",
      "nbclient                  0.10.2\n",
      "nbconvert                 7.16.6\n",
      "nbformat                  5.10.4\n",
      "nest-asyncio              1.6.0\n",
      "networkx                  3.4.2\n",
      "notebook                  7.3.3\n",
      "notebook_shim             0.2.4\n",
      "numpy                     2.2.4\n",
      "overrides                 7.7.0\n",
      "packaging                 25.0\n",
      "pandas                    2.2.3\n",
      "pandocfilters             1.5.1\n",
      "parso                     0.8.4\n",
      "pillow                    11.1.0\n",
      "pip                       25.0.1\n",
      "platformdirs              4.3.8\n",
      "pluggy                    1.5.0\n",
      "prometheus_client         0.21.1\n",
      "prompt_toolkit            3.0.51\n",
      "propcache                 0.3.1\n",
      "protobuf                  6.30.2\n",
      "psutil                    7.0.0\n",
      "pure_eval                 0.2.3\n",
      "pyarrow                   20.0.0\n",
      "pycparser                 2.22\n",
      "Pygments                  2.19.1\n",
      "pyparsing                 3.2.3\n",
      "pytest                    8.3.5\n",
      "python-dateutil           2.9.0.post0\n",
      "python-json-logger        3.3.0\n",
      "pytz                      2025.2\n",
      "pywin32                   310\n",
      "pywinpty                  2.0.15\n",
      "PyYAML                    6.0.2\n",
      "pyzmq                     26.4.0\n",
      "rdt                       1.15.1\n",
      "realtabformer             0.2.2\n",
      "referencing               0.36.2\n",
      "regex                     2024.11.6\n",
      "requests                  2.32.3\n",
      "rfc3339-validator         0.1.4\n",
      "rfc3986-validator         0.1.1\n",
      "rpds-py                   0.24.0\n",
      "safetensors               0.5.3\n",
      "scikit-learn              1.6.1\n",
      "scipy                     1.15.2\n",
      "seaborn                   0.13.2\n",
      "Send2Trash                1.8.3\n",
      "sentencepiece             0.2.0\n",
      "setuptools                78.1.0\n",
      "shapely                   2.1.0\n",
      "six                       1.17.0\n",
      "sniffio                   1.3.1\n",
      "soupsieve                 2.6\n",
      "stack-data                0.6.3\n",
      "sympy                     1.13.1\n",
      "terminado                 0.18.1\n",
      "threadpoolctl             3.6.0\n",
      "tinycss2                  1.4.0\n",
      "tokenizers                0.21.1\n",
      "tomli                     2.2.1\n",
      "torch                     2.6.0+cu118\n",
      "tornado                   6.5.1\n",
      "tqdm                      4.67.1\n",
      "traitlets                 5.14.3\n",
      "transformers              4.51.3\n",
      "types-python-dateutil     2.9.0.20241206\n",
      "typing_extensions         4.14.0\n",
      "tzdata                    2025.2\n",
      "ucimlrepo                 0.0.7\n",
      "uri-template              1.3.0\n",
      "urllib3                   2.3.0\n",
      "wcwidth                   0.2.13\n",
      "webcolors                 24.11.1\n",
      "webencodings              0.5.1\n",
      "websocket-client          1.8.0\n",
      "xxhash                    3.5.0\n",
      "yarl                      1.20.0\n"
     ]
    }
   ],
   "source": [
    "!pip list"
   ]
  },
  {
   "cell_type": "code",
   "execution_count": null,
   "id": "5c7a3b76",
   "metadata": {},
   "outputs": [],
   "source": [
    "# Instalamos las dependencias necesarias\n",
    "!pip install -r TFG/requirements.txt"
   ]
  },
  {
   "cell_type": "code",
   "execution_count": null,
   "id": "d9d452b3",
   "metadata": {},
   "outputs": [],
   "source": [
    "# Hacemos los imports necesarios y cargamos el conjunto de datos Iris\n",
    "import pandas as pd\n",
    "from ucimlrepo import fetch_ucirepo \n",
    "iris = fetch_ucirepo(id=53)\n",
    "iris_x = iris['data']['features']\n",
    "iris_y = iris['data']['targets']\n",
    "iris = pd.concat([iris_x, iris_y], axis=1)"
   ]
  },
  {
   "cell_type": "code",
   "execution_count": 4,
   "id": "c20aa634",
   "metadata": {},
   "outputs": [],
   "source": [
    "from CraftingTable import CTGAN, TVAE, TabDDPM, TabSyn\n",
    "ctgan = CTGAN()\n",
    "tvae = TVAE()\n",
    "tabddpm = TabDDPM()\n",
    "tabsyn = TabSyn()"
   ]
  },
  {
   "cell_type": "markdown",
   "id": "c3cf4926",
   "metadata": {},
   "source": [
    "## Entrenamiento de los modelos"
   ]
  },
  {
   "cell_type": "code",
   "execution_count": 10,
   "id": "d913a403",
   "metadata": {},
   "outputs": [
    {
     "ename": "KeyboardInterrupt",
     "evalue": "",
     "output_type": "error",
     "traceback": [
      "\u001b[1;31m---------------------------------------------------------------------------\u001b[0m",
      "\u001b[1;31mKeyboardInterrupt\u001b[0m                         Traceback (most recent call last)",
      "Cell \u001b[1;32mIn[10], line 1\u001b[0m\n\u001b[1;32m----> 1\u001b[0m \u001b[43mctgan\u001b[49m\u001b[38;5;241;43m.\u001b[39;49m\u001b[43mfit\u001b[49m\u001b[43m(\u001b[49m\u001b[43mtrain_data\u001b[49m\u001b[38;5;241;43m=\u001b[39;49m\u001b[43miris\u001b[49m\u001b[43m,\u001b[49m\u001b[43m \u001b[49m\u001b[43mdiscrete_columns\u001b[49m\u001b[38;5;241;43m=\u001b[39;49m\u001b[43m[\u001b[49m\u001b[38;5;124;43m'\u001b[39;49m\u001b[38;5;124;43mclass\u001b[39;49m\u001b[38;5;124;43m'\u001b[39;49m\u001b[43m]\u001b[49m\u001b[43m,\u001b[49m\u001b[43m \u001b[49m\u001b[43mepochs\u001b[49m\u001b[38;5;241;43m=\u001b[39;49m\u001b[38;5;241;43m5000\u001b[39;49m\u001b[43m,\u001b[49m\u001b[43m \u001b[49m\u001b[43mbatch_size\u001b[49m\u001b[38;5;241;43m=\u001b[39;49m\u001b[38;5;241;43m50\u001b[39;49m\u001b[43m,\u001b[49m\u001b[43m \u001b[49m\u001b[43mdevice\u001b[49m\u001b[38;5;241;43m=\u001b[39;49m\u001b[38;5;124;43m'\u001b[39;49m\u001b[38;5;124;43mcpu\u001b[39;49m\u001b[38;5;124;43m'\u001b[39;49m\u001b[43m)\u001b[49m\n\u001b[0;32m      2\u001b[0m tvae\u001b[38;5;241m.\u001b[39mfit(train_data\u001b[38;5;241m=\u001b[39miris, discrete_columns\u001b[38;5;241m=\u001b[39m[\u001b[38;5;124m'\u001b[39m\u001b[38;5;124mclass\u001b[39m\u001b[38;5;124m'\u001b[39m], epochs\u001b[38;5;241m=\u001b[39m\u001b[38;5;241m5000\u001b[39m, batch_size\u001b[38;5;241m=\u001b[39m\u001b[38;5;241m50\u001b[39m, device\u001b[38;5;241m=\u001b[39m\u001b[38;5;124m'\u001b[39m\u001b[38;5;124mcpu\u001b[39m\u001b[38;5;124m'\u001b[39m)\n\u001b[0;32m      3\u001b[0m tabddpm\u001b[38;5;241m.\u001b[39mfit(train_data\u001b[38;5;241m=\u001b[39miris, discrete_columns\u001b[38;5;241m=\u001b[39m[\u001b[38;5;124m'\u001b[39m\u001b[38;5;124mclass\u001b[39m\u001b[38;5;124m'\u001b[39m], epochs\u001b[38;5;241m=\u001b[39m\u001b[38;5;241m5000\u001b[39m, batch_size\u001b[38;5;241m=\u001b[39m\u001b[38;5;241m50\u001b[39m, device\u001b[38;5;241m=\u001b[39m\u001b[38;5;124m'\u001b[39m\u001b[38;5;124mcpu\u001b[39m\u001b[38;5;124m'\u001b[39m)\n",
      "File \u001b[1;32mc:\\Users\\velil\\Desktop\\TFG_Final\\CraftingTable\\models\\ctgan.py:68\u001b[0m, in \u001b[0;36mCTGAN.fit\u001b[1;34m(self, train_data, discrete_columns, generator_lr, generator_decay, discriminator_lr, discriminator_decay, batch_size, discriminator_steps, log_frequency, verbose, epochs, pac, device, save_final_model, save_folder)\u001b[0m\n\u001b[0;32m     65\u001b[0m \u001b[38;5;28mself\u001b[39m\u001b[38;5;241m.\u001b[39m_create_table_metadata(data\u001b[38;5;241m=\u001b[39mtrain_data)\n\u001b[0;32m     67\u001b[0m pre_time \u001b[38;5;241m=\u001b[39m datetime\u001b[38;5;241m.\u001b[39mnow()\n\u001b[1;32m---> 68\u001b[0m \u001b[43mparentCTGAN\u001b[49m\u001b[38;5;241;43m.\u001b[39;49m\u001b[43mfit\u001b[49m\u001b[43m(\u001b[49m\u001b[38;5;28;43mself\u001b[39;49m\u001b[43m,\u001b[49m\u001b[43m \u001b[49m\u001b[43mtrain_data\u001b[49m\u001b[43m,\u001b[49m\u001b[43m \u001b[49m\u001b[43mdiscrete_columns\u001b[49m\u001b[38;5;241;43m=\u001b[39;49m\u001b[43mdiscrete_columns\u001b[49m\u001b[43m,\u001b[49m\u001b[43m \u001b[49m\u001b[43mepochs\u001b[49m\u001b[38;5;241;43m=\u001b[39;49m\u001b[43mepochs\u001b[49m\u001b[43m)\u001b[49m\n\u001b[0;32m     69\u001b[0m post_time \u001b[38;5;241m=\u001b[39m datetime\u001b[38;5;241m.\u001b[39mnow()\n\u001b[0;32m     71\u001b[0m fit_duration \u001b[38;5;241m=\u001b[39m post_time \u001b[38;5;241m-\u001b[39m pre_time\n",
      "File \u001b[1;32mc:\\Users\\velil\\Desktop\\TFG_Final\\.venv\\lib\\site-packages\\ctgan\\synthesizers\\base.py:50\u001b[0m, in \u001b[0;36mrandom_state.<locals>.wrapper\u001b[1;34m(self, *args, **kwargs)\u001b[0m\n\u001b[0;32m     48\u001b[0m \u001b[38;5;28;01mdef\u001b[39;00m\u001b[38;5;250m \u001b[39m\u001b[38;5;21mwrapper\u001b[39m(\u001b[38;5;28mself\u001b[39m, \u001b[38;5;241m*\u001b[39margs, \u001b[38;5;241m*\u001b[39m\u001b[38;5;241m*\u001b[39mkwargs):\n\u001b[0;32m     49\u001b[0m     \u001b[38;5;28;01mif\u001b[39;00m \u001b[38;5;28mself\u001b[39m\u001b[38;5;241m.\u001b[39mrandom_states \u001b[38;5;129;01mis\u001b[39;00m \u001b[38;5;28;01mNone\u001b[39;00m:\n\u001b[1;32m---> 50\u001b[0m         \u001b[38;5;28;01mreturn\u001b[39;00m function(\u001b[38;5;28mself\u001b[39m, \u001b[38;5;241m*\u001b[39margs, \u001b[38;5;241m*\u001b[39m\u001b[38;5;241m*\u001b[39mkwargs)\n\u001b[0;32m     52\u001b[0m     \u001b[38;5;28;01melse\u001b[39;00m:\n\u001b[0;32m     53\u001b[0m         \u001b[38;5;28;01mwith\u001b[39;00m set_random_states(\u001b[38;5;28mself\u001b[39m\u001b[38;5;241m.\u001b[39mrandom_states, \u001b[38;5;28mself\u001b[39m\u001b[38;5;241m.\u001b[39mset_random_state):\n",
      "File \u001b[1;32mc:\\Users\\velil\\Desktop\\TFG_Final\\.venv\\lib\\site-packages\\ctgan\\synthesizers\\ctgan.py:394\u001b[0m, in \u001b[0;36mCTGAN.fit\u001b[1;34m(self, train_data, discrete_columns, epochs)\u001b[0m\n\u001b[0;32m    391\u001b[0m \u001b[38;5;28;01mfor\u001b[39;00m n \u001b[38;5;129;01min\u001b[39;00m \u001b[38;5;28mrange\u001b[39m(\u001b[38;5;28mself\u001b[39m\u001b[38;5;241m.\u001b[39m_discriminator_steps):\n\u001b[0;32m    392\u001b[0m     fakez \u001b[38;5;241m=\u001b[39m torch\u001b[38;5;241m.\u001b[39mnormal(mean\u001b[38;5;241m=\u001b[39mmean, std\u001b[38;5;241m=\u001b[39mstd)\n\u001b[1;32m--> 394\u001b[0m     condvec \u001b[38;5;241m=\u001b[39m \u001b[38;5;28;43mself\u001b[39;49m\u001b[38;5;241;43m.\u001b[39;49m\u001b[43m_data_sampler\u001b[49m\u001b[38;5;241;43m.\u001b[39;49m\u001b[43msample_condvec\u001b[49m\u001b[43m(\u001b[49m\u001b[38;5;28;43mself\u001b[39;49m\u001b[38;5;241;43m.\u001b[39;49m\u001b[43m_batch_size\u001b[49m\u001b[43m)\u001b[49m\n\u001b[0;32m    395\u001b[0m     \u001b[38;5;28;01mif\u001b[39;00m condvec \u001b[38;5;129;01mis\u001b[39;00m \u001b[38;5;28;01mNone\u001b[39;00m:\n\u001b[0;32m    396\u001b[0m         c1, m1, col, opt \u001b[38;5;241m=\u001b[39m \u001b[38;5;28;01mNone\u001b[39;00m, \u001b[38;5;28;01mNone\u001b[39;00m, \u001b[38;5;28;01mNone\u001b[39;00m, \u001b[38;5;28;01mNone\u001b[39;00m\n",
      "File \u001b[1;32mc:\\Users\\velil\\Desktop\\TFG_Final\\.venv\\lib\\site-packages\\ctgan\\data_sampler.py:81\u001b[0m, in \u001b[0;36mDataSampler.sample_condvec\u001b[1;34m(self, batch)\u001b[0m\n\u001b[0;32m     78\u001b[0m     r \u001b[38;5;241m=\u001b[39m np\u001b[38;5;241m.\u001b[39mexpand_dims(np\u001b[38;5;241m.\u001b[39mrandom\u001b[38;5;241m.\u001b[39mrand(probs\u001b[38;5;241m.\u001b[39mshape[\u001b[38;5;241m0\u001b[39m]), axis\u001b[38;5;241m=\u001b[39m\u001b[38;5;241m1\u001b[39m)\n\u001b[0;32m     79\u001b[0m     \u001b[38;5;28;01mreturn\u001b[39;00m (probs\u001b[38;5;241m.\u001b[39mcumsum(axis\u001b[38;5;241m=\u001b[39m\u001b[38;5;241m1\u001b[39m) \u001b[38;5;241m>\u001b[39m r)\u001b[38;5;241m.\u001b[39margmax(axis\u001b[38;5;241m=\u001b[39m\u001b[38;5;241m1\u001b[39m)\n\u001b[1;32m---> 81\u001b[0m \u001b[38;5;28;01mdef\u001b[39;00m\u001b[38;5;250m \u001b[39m\u001b[38;5;21msample_condvec\u001b[39m(\u001b[38;5;28mself\u001b[39m, batch):\n\u001b[0;32m     82\u001b[0m \u001b[38;5;250m    \u001b[39m\u001b[38;5;124;03m\"\"\"Generate the conditional vector for training.\u001b[39;00m\n\u001b[0;32m     83\u001b[0m \n\u001b[0;32m     84\u001b[0m \u001b[38;5;124;03m    Returns:\u001b[39;00m\n\u001b[1;32m   (...)\u001b[0m\n\u001b[0;32m     92\u001b[0m \u001b[38;5;124;03m            Selected category in the selected discrete column.\u001b[39;00m\n\u001b[0;32m     93\u001b[0m \u001b[38;5;124;03m    \"\"\"\u001b[39;00m\n\u001b[0;32m     94\u001b[0m     \u001b[38;5;28;01mif\u001b[39;00m \u001b[38;5;28mself\u001b[39m\u001b[38;5;241m.\u001b[39m_n_discrete_columns \u001b[38;5;241m==\u001b[39m \u001b[38;5;241m0\u001b[39m:\n",
      "\u001b[1;31mKeyboardInterrupt\u001b[0m: "
     ]
    }
   ],
   "source": [
    "ctgan.fit(train_data=iris, discrete_columns=['class'], epochs=5000, batch_size=50, device='cpu')\n",
    "tvae.fit(train_data=iris, discrete_columns=['class'], epochs=5000, batch_size=50, device='cpu')\n",
    "tabddpm.fit(train_data=iris, discrete_columns=['class'], epochs=5000, batch_size=50, device='cpu')\n",
    "tabsyn.fit(train_data=iris, discrete_columns=['class'], vae_epochs=50, mlp_epochs=50, batch_size=50, device='cpu')"
   ]
  }
 ],
 "metadata": {
  "kernelspec": {
   "display_name": "Python 3",
   "language": "python",
   "name": "python3"
  },
  "language_info": {
   "codemirror_mode": {
    "name": "ipython",
    "version": 3
   },
   "file_extension": ".py",
   "mimetype": "text/x-python",
   "name": "python",
   "nbconvert_exporter": "python",
   "pygments_lexer": "ipython3",
   "version": "3.10.5"
  }
 },
 "nbformat": 4,
 "nbformat_minor": 5
}
